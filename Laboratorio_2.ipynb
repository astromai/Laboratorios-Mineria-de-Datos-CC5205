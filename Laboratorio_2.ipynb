{
  "cells": [
    {
      "cell_type": "markdown",
      "metadata": {
        "id": "4wEL8gfoNqDc"
      },
      "source": [
        "# Scikit-learn y Machine Learning\n",
        "\n",
        "Inspirado por el curso de Xavier Dupré\n",
        "\n",
        "Integrantes: Tomás Ubilla y Nahuel Won"
      ]
    },
    {
      "cell_type": "markdown",
      "metadata": {},
      "source": [
        "## Instrucciones\n",
        "\n",
        "1.  Trabajen en equipos de dos personas. Salvo excepciones, no se corregirá entregas con menos de dos integrantes.\n",
        "\n",
        "2.  Modifique este archivo `.ipynb` agregando sus respuestas donde corresponda.\n",
        "\n",
        "3.  Para cada pregunta **incluya el código fuente que utilizó para llegar a su respuesta. Respuestas sin código no recibirán puntaje.**.\n",
        "\n",
        "4.  El formato de entrega para esta actividad es un archivo **html**. **Genere un archivo HTML usando Jupyter** y súbalo a U-Cursos. Basta con que un/a integrante haga la entrega. Si ambos/as hacen una entrega en U-Cursos, se revisará cualquiera de éstas.\n",
        "\n",
        "\n",
        "#### **Se recomienda fuertemente que no usen ChatGPT para resolver la actividad, ya que la experiencia de aprendizaje es mucho mayor si lo hacen por su cuenta.**"
      ]
    },
    {
      "cell_type": "code",
      "execution_count": 14,
      "metadata": {
        "id": "hM1vmrYyNqDe"
      },
      "outputs": [],
      "source": [
        "%matplotlib inline"
      ]
    },
    {
      "cell_type": "markdown",
      "metadata": {
        "id": "ooF9dVasNqDg"
      },
      "source": [
        "## Datos Sintéticos\n",
        "\n",
        "Simulamos un dataset de datos aleatorios con una distribución uniforme $\\mathcal{U}_{(0,1)}$."
      ]
    },
    {
      "cell_type": "code",
      "execution_count": 15,
      "metadata": {
        "id": "YoYGRSQQNqDh",
        "outputId": "23ac0c17-dcdf-43e6-d0a2-f806cbbad870"
      },
      "outputs": [
        {
          "data": {
            "text/plain": [
              "array([[0.648643  , 0.9239945 ],\n",
              "       [0.60995597, 0.77911957],\n",
              "       [0.65163489, 0.31705402],\n",
              "       [0.43348357, 0.53574911],\n",
              "       [0.73158782, 0.13238809]])"
            ]
          },
          "execution_count": 15,
          "metadata": {},
          "output_type": "execute_result"
        }
      ],
      "source": [
        "from numpy import random\n",
        "n = 1000\n",
        "X = random.rand(n, 2)\n",
        "X[:5]"
      ]
    },
    {
      "cell_type": "markdown",
      "metadata": {
        "id": "2d_uknGgNqDi"
      },
      "source": [
        "Creemos un modelo inicial: $Y = 3 X_1 - 2 X_2^2 + \\epsilon$.\n",
        "\n",
        "Necesitamos aproximar $Y$ usando descriptores $X_1$ y $X_2$.\n",
        "\n",
        "$\\epsilon $~$ \\mathcal{U}_{(0,1)}$ es una fuente de ruido que no podemos controlar."
      ]
    },
    {
      "cell_type": "code",
      "execution_count": 16,
      "metadata": {
        "id": "ETrhlnynNqDi",
        "outputId": "b3afe524-b447-4b19-cc1e-039a76b1f11a"
      },
      "outputs": [
        {
          "data": {
            "text/plain": [
              "array([0.84161484, 1.56087246, 2.59796039, 1.08544446, 2.51634981])"
            ]
          },
          "execution_count": 16,
          "metadata": {},
          "output_type": "execute_result"
        }
      ],
      "source": [
        "y = X[:, 0] * 3 - 2 * X[:, 1] ** 2 + random.rand(n)\n",
        "y[:5]"
      ]
    },
    {
      "cell_type": "markdown",
      "metadata": {
        "id": "NE9lf5fZNqDk"
      },
      "source": [
        "## Ejercicio 1: Dividiendo en datos de entrenamiento y testeo\n",
        "\n",
        "Debemos testear nuestro modelo con datos distintos a los usados para entrenarlo **para poder medir su capacidad de generalización**. Como hemos visto, el riesgo empírico en un conjunto de datos dado no es representativo del riesgo general, y podemos observar un fenómeno de sobreaprendizaje (overfitting) en el conjunto de entrenamiento.\n",
        "\n",
        "En nuestro caso, queremos que el modelo aprenda la ley $3 X_1 - 2 X_2^2$ y **el sobreaprendizaje equivaldría a memorizar el vector de ruido $\\epsilon$** que solo corresponde a variaciones en $Y$ independientes de nuestro modelo.\n",
        "\n",
        "Simple [train_test_split](http://scikit-learn.org/stable/modules/generated/sklearn.model_selection.train_test_split.html)."
      ]
    },
    {
      "cell_type": "code",
      "execution_count": 17,
      "metadata": {
        "id": "z0Qy8HORNqDl"
      },
      "outputs": [],
      "source": [
        "# to fill\n",
        "from sklearn.model_selection import train_test_split\n",
        "\n",
        "X_train, X_val_and_test, y_train, y_val_and_test = train_test_split(X, y, test_size=0.7, random_state=0)\n",
        "X_val, X_test, y_val, y_test = train_test_split(X_val_and_test, y_val_and_test, test_size=0.5, random_state=0)\n"
      ]
    },
    {
      "cell_type": "markdown",
      "metadata": {
        "id": "9sRruykmNqDm"
      },
      "source": [
        "## Ejercicio 2: Entrenar una regresión lineal\n",
        "\n",
        "Encuentre los parámetros $\\theta = \\begin{pmatrix}\n",
        "           \\theta_{1} \\\\\n",
        "           \\theta_{2}\n",
        "         \\end{pmatrix}$ solución de $\\underset{\\theta}{\\arg\\max} \\sum_{i=1}^{n}|Y_i-f_{\\theta}(\\mathbf{X}_i)|^2$\n",
        "         \n",
        "Donde $f_{\\theta}(\\mathbf{X}) = \\theta_0 + \\sum_{d=1}^{D}\\theta_d X_d$ en el caso $D=2$\n",
        "\n",
        "Calcule el coeficiente $R^2$.\n",
        "$$R^2=1-\\frac{\\sum_{i=1}^{n}|Y_i-f(\\mathbf{X}_i)|^2}{\\sum_{i=1}^{n}|Y_i-\\overline{Y}|^2}$$\n",
        "\n",
        "Donde $\\mathbf{X} = \\begin{pmatrix}\n",
        "           X_{1} \\\\\n",
        "           X_{2}\n",
        "         \\end{pmatrix}$ et $\\overline{Y}=\\frac{1}{n}\\sum_{i=1}^{n}Y_i$\n",
        "\n",
        "Use : [LinearRegression](http://scikit-learn.org/stable/modules/generated/sklearn.linear_model.LinearRegression.html), [r2_score](http://scikit-learn.org/stable/modules/generated/sklearn.metrics.r2_score.html)."
      ]
    },
    {
      "cell_type": "code",
      "execution_count": 18,
      "metadata": {
        "id": "KNfwy8u2NqDm"
      },
      "outputs": [
        {
          "name": "stdout",
          "output_type": "stream",
          "text": [
            "thetha1: 2.999350345781391, theta2: -1.9256732996399104\n",
            "r2_score = 0.9101160383641558\n"
          ]
        }
      ],
      "source": [
        "# to fill\n",
        "import numpy as np\n",
        "from sklearn.linear_model import LinearRegression\n",
        "from sklearn.metrics import r2_score\n",
        "\n",
        "reg = LinearRegression().fit(X_train, y_train)\n",
        "theta1 = reg.coef_[0]\n",
        "theta2 = reg.coef_[1]\n",
        "print(f\"thetha1: {theta1}, theta2: {theta2}\")\n",
        "\n",
        "y_pred = reg.predict(X_test)\n",
        "r2 = r2_score(y_test, y_pred)\n",
        "print(f\"r2_score = {r2}\")\n"
      ]
    },
    {
      "cell_type": "markdown",
      "metadata": {
        "id": "z34LAaagNqDn"
      },
      "source": [
        "## Ejercicio 3: Mejorando el modelo aplicando una transformación apropiada\n",
        "\n",
        "El modelo inicial es: $Y = 3 X_1 - 2 X_2^2 + \\epsilon$. Simplemente agregue carecterísticas polinómicas con [PolynomialFeatures](http://scikit-learn.org/stable/modules/generated/sklearn.preprocessing.PolynomialFeatures.html).\n",
        "\n",
        "Tomando el parámetro :\n",
        "```python\n",
        "degree=2\n",
        "```\n",
        "El descriptor original $\\mathbf{X} = \\begin{pmatrix} X_{1} \\\\ X_{2} \\end{pmatrix}$\n",
        "Ahora será $\\mathbf{X} = \\begin{pmatrix} 1 \\\\ X_{1} \\\\ X_{2} \\\\ X_{1}^2 \\\\ X_{1}X_{2} \\\\ X_{2}^2 \\end{pmatrix}$ lo que nos da:\n",
        "\n",
        "$$f_{\\theta}(\\mathbf{X}) = \\theta'_0 + \\theta_1 X_1 + \\theta_2 X_2 + \\theta_3 X_1^2 + \\theta_4 X_1X_2 + \\theta_5 X_2^2$$"
      ]
    },
    {
      "cell_type": "code",
      "execution_count": 19,
      "metadata": {
        "id": "aVw1wmLzNqDn"
      },
      "outputs": [
        {
          "name": "stdout",
          "output_type": "stream",
          "text": [
            "thetha0: 0.0, theta1: 2.990945283907928, theta2: -0.12041869892620376, theta3: -0.08422354761246827, theta4: 0.1260047893121498, theta5: -1.8913333902717853\n",
            "r2_score = 0.9319079504401434\n"
          ]
        }
      ],
      "source": [
        "# to fill\n",
        "import numpy as np\n",
        "from sklearn.preprocessing import PolynomialFeatures\n",
        "from sklearn.linear_model import LinearRegression\n",
        "from sklearn.metrics import r2_score\n",
        "\n",
        "poly = PolynomialFeatures(degree=2)\n",
        "X_train_poly = poly.fit_transform(X_train)\n",
        "X_test_poly = poly.fit_transform(X_test)\n",
        "\n",
        "reg2 = LinearRegression().fit(X_train_poly, y_train)\n",
        "theta0 = reg2.coef_[0]\n",
        "theta11 = reg2.coef_[1]\n",
        "theta22 = reg2.coef_[2]\n",
        "theta3 = reg2.coef_[3]\n",
        "theta4 = reg2.coef_[4]\n",
        "theta5 = reg2.coef_[5]\n",
        "print(f\"thetha0: {theta0}, theta1: {theta11}, theta2: {theta22}, theta3: {theta3}, theta4: {theta4}, theta5: {theta5}\")\n",
        "\n",
        "y_pred_poly = reg2.predict(X_test_poly)\n",
        "r2_poly = r2_score(y_test, y_pred_poly)\n",
        "\n",
        "print(f\"r2_score = {r2_poly}\")\n"
      ]
    },
    {
      "cell_type": "markdown",
      "metadata": {
        "id": "gMluQbrpNqDo"
      },
      "source": [
        "## Ejercicio 4: entrenar un Random Forest\n",
        "\n",
        "Use: [RandomForestRegressor](https://scikit-learn.org/stable/modules/generated/sklearn.ensemble.RandomForestRegressor.html)"
      ]
    },
    {
      "cell_type": "code",
      "execution_count": 20,
      "metadata": {},
      "outputs": [
        {
          "data": {
            "text/plain": [
              "0.9150492428102909"
            ]
          },
          "execution_count": 20,
          "metadata": {},
          "output_type": "execute_result"
        }
      ],
      "source": [
        "from sklearn.ensemble import RandomForestRegressor\n",
        "clf = RandomForestRegressor()\n",
        "# learning classifier\n",
        "clf.fit(X_train, y_train)\n",
        "# scoring classifier\n",
        "clf.score(X_test, y_test)"
      ]
    },
    {
      "cell_type": "markdown",
      "metadata": {},
      "source": [
        "Veamos ahora las características polinómicas..."
      ]
    },
    {
      "cell_type": "code",
      "execution_count": null,
      "metadata": {},
      "outputs": [
        {
          "data": {
            "text/plain": [
              "0.912503648885635"
            ]
          },
          "execution_count": 21,
          "metadata": {},
          "output_type": "execute_result"
        }
      ],
      "source": [
        "# to fill\n",
        "from sklearn.ensemble import RandomForestRegressor\n",
        "\n",
        "clf.fit(X_train_poly, y_train)\n",
        "clf.score(X_test_poly, y_test)"
      ]
    },
    {
      "cell_type": "markdown",
      "metadata": {
        "id": "CXhWgKOLNqDo"
      },
      "source": [
        "## Ejercicio 5: Un poco de matemáticas\n",
        "\n",
        "Compare ambos modelos con los siguientes datos. De qué se puede percatar? Por qué?"
      ]
    },
    {
      "cell_type": "code",
      "execution_count": 22,
      "metadata": {
        "id": "8rZMCvc-NqDo"
      },
      "outputs": [],
      "source": [
        "X_test2 = random.rand(n, 2) + 0.5\n",
        "y_test2 = X_test2[:, 0] * 3 - 2 * X_test2[:, 1] ** 2 + random.rand(n)"
      ]
    },
    {
      "cell_type": "code",
      "execution_count": 39,
      "metadata": {
        "id": "E8D7f_55NqDp"
      },
      "outputs": [
        {
          "name": "stdout",
          "output_type": "stream",
          "text": [
            "r2_score with LinearRegression => 0.9556176210823044\n",
            "r2_score with RandomForestRegressor => 0.48397119622667173\n"
          ]
        }
      ],
      "source": [
        "# to fill\n",
        "from sklearn.preprocessing import PolynomialFeatures\n",
        "from sklearn.metrics import r2_score\n",
        "\n",
        "# Using X_test2 and calculate R^2 with LinearRegression + PolynomialFeature\n",
        "X_test_poly2 = poly.fit_transform(X_test2)\n",
        "y_pred_poly2 = reg2.predict(X_test_poly2)\n",
        "r2_poly2 = r2_score(y_test2, y_pred_poly2)\n",
        "print(f\"r2_score with LinearRegression => {r2_poly2}\")\n",
        "\n",
        "# Using X_test2 and calculate R^2 with RandomForestRegressor \n",
        "clf.fit(X_train, y_train)\n",
        "r2_rf2 = clf.score(X_test2, y_test2)\n",
        "print(f\"r2_score with RandomForestRegressor => {r2_rf2}\")        "
      ]
    },
    {
      "cell_type": "markdown",
      "metadata": {},
      "source": [
        "Los randomForest toman porcion de data al azar y las van agrupando. Se caracteriza por ser un modelo mas complejo al realizar multiples arboles de decisiones (subconjuntos de datos), estos no alcanzan una profunidad suficiente para proponer un buen prediccion de los datos, ya que lo hace por tramos en secciones discretas. La funcion matematica que ocupamos para 'X' e 'y' no son un buen modelo para el caso de randomForest al no poder predecir bien porque la medida R^2 es lo suficientemente baja para informar que tanto puede representar alguna prediccion. \n",
        "El modelo de LinearRegression + PolynomialFeature logra modelar directamente la estructura matematica de los datos viendose representada por su R^2 cercano a 1, mas alto y que se ajusta de mejor lamerna a la misma ecuacion de terminos cuadraticosS.\n"
      ]
    },
    {
      "cell_type": "markdown",
      "metadata": {
        "id": "oAhnCrQ3NqDp"
      },
      "source": [
        "## Ejercicio 6: Ilustrando el overfitting con un árbol de decisión\n",
        "\n",
        "A medida que la complejidad del modelo aumenta, el overfitting ocurre. Análogamente, el modelo usando solo $X_1$ y $X_2$ no está necesariamente adaptado al problema y cae en un caso underfitting. Grafique cómo evoluciona la R2 según la profundidad del decision tree."
      ]
    },
    {
      "cell_type": "code",
      "execution_count": 42,
      "metadata": {
        "id": "XLYkgE5vNqDp"
      },
      "outputs": [
        {
          "data": {
            "text/html": [
              "<div>\n",
              "<style scoped>\n",
              "    .dataframe tbody tr th:only-of-type {\n",
              "        vertical-align: middle;\n",
              "    }\n",
              "\n",
              "    .dataframe tbody tr th {\n",
              "        vertical-align: top;\n",
              "    }\n",
              "\n",
              "    .dataframe thead th {\n",
              "        text-align: right;\n",
              "    }\n",
              "</style>\n",
              "<table border=\"1\" class=\"dataframe\">\n",
              "  <thead>\n",
              "    <tr style=\"text-align: right;\">\n",
              "      <th></th>\n",
              "      <th>profondeur</th>\n",
              "      <th>r2_train</th>\n",
              "      <th>r2_test</th>\n",
              "    </tr>\n",
              "  </thead>\n",
              "  <tbody>\n",
              "    <tr>\n",
              "      <th>0</th>\n",
              "      <td>1</td>\n",
              "      <td>0.524347</td>\n",
              "      <td>0.434515</td>\n",
              "    </tr>\n",
              "    <tr>\n",
              "      <th>1</th>\n",
              "      <td>2</td>\n",
              "      <td>0.766481</td>\n",
              "      <td>0.670614</td>\n",
              "    </tr>\n",
              "    <tr>\n",
              "      <th>2</th>\n",
              "      <td>3</td>\n",
              "      <td>0.861724</td>\n",
              "      <td>0.796926</td>\n",
              "    </tr>\n",
              "    <tr>\n",
              "      <th>3</th>\n",
              "      <td>4</td>\n",
              "      <td>0.919051</td>\n",
              "      <td>0.860534</td>\n",
              "    </tr>\n",
              "    <tr>\n",
              "      <th>4</th>\n",
              "      <td>5</td>\n",
              "      <td>0.950293</td>\n",
              "      <td>0.887679</td>\n",
              "    </tr>\n",
              "    <tr>\n",
              "      <th>5</th>\n",
              "      <td>6</td>\n",
              "      <td>0.968167</td>\n",
              "      <td>0.891914</td>\n",
              "    </tr>\n",
              "    <tr>\n",
              "      <th>6</th>\n",
              "      <td>7</td>\n",
              "      <td>0.982663</td>\n",
              "      <td>0.879206</td>\n",
              "    </tr>\n",
              "    <tr>\n",
              "      <th>7</th>\n",
              "      <td>8</td>\n",
              "      <td>0.992686</td>\n",
              "      <td>0.872072</td>\n",
              "    </tr>\n",
              "    <tr>\n",
              "      <th>8</th>\n",
              "      <td>9</td>\n",
              "      <td>0.996904</td>\n",
              "      <td>0.867500</td>\n",
              "    </tr>\n",
              "    <tr>\n",
              "      <th>9</th>\n",
              "      <td>10</td>\n",
              "      <td>0.998736</td>\n",
              "      <td>0.871811</td>\n",
              "    </tr>\n",
              "  </tbody>\n",
              "</table>\n",
              "</div>"
            ],
            "text/plain": [
              "   profondeur  r2_train   r2_test\n",
              "0           1  0.524347  0.434515\n",
              "1           2  0.766481  0.670614\n",
              "2           3  0.861724  0.796926\n",
              "3           4  0.919051  0.860534\n",
              "4           5  0.950293  0.887679\n",
              "5           6  0.968167  0.891914\n",
              "6           7  0.982663  0.879206\n",
              "7           8  0.992686  0.872072\n",
              "8           9  0.996904  0.867500\n",
              "9          10  0.998736  0.871811"
            ]
          },
          "execution_count": 42,
          "metadata": {},
          "output_type": "execute_result"
        }
      ],
      "source": [
        "from sklearn.tree import DecisionTreeRegressor\n",
        "import pandas\n",
        "\n",
        "res = []\n",
        "for md in range(1, 20):\n",
        "    # to fill\n",
        "    tree = DecisionTreeRegressor(max_depth=md)\n",
        "    tree.fit(X_train, y_train)\n",
        "    r2_train = tree.score(X_train, y_train)\n",
        "    r2_test = tree.score(X_test, y_test)\n",
        "    res.append(dict(profondeur=md, r2_train=r2_train, r2_test=r2_test))\n",
        "\n",
        "df = pandas.DataFrame(res)\n",
        "df.head(10)"
      ]
    },
    {
      "cell_type": "code",
      "execution_count": 43,
      "metadata": {
        "id": "s5ewy8oLNqDq"
      },
      "outputs": [
        {
          "data": {
            "text/plain": [
              "Text(0.5, 1.0, 'Evolution du R2 selon la profondeur')"
            ]
          },
          "execution_count": 43,
          "metadata": {},
          "output_type": "execute_result"
        },
        {
          "data": {
            "image/png": "[encoded data removed]",
            "text/plain": [
              "<Figure size 640x480 with 1 Axes>"
            ]
          },
          "metadata": {},
          "output_type": "display_data"
        }
      ],
      "source": [
        "ax = df.plot(x='profondeur', y=['r2_train', 'r2_test'])\n",
        "ax.set_title(\"Evolution du R2 selon la profondeur\")\n"
      ]
    }
  ],
  "metadata": {
    "colab": {
      "provenance": []
    },
    "kernelspec": {
      "display_name": "Python 3",
      "language": "python",
      "name": "python3"
    },
    "language_info": {
      "codemirror_mode": {
        "name": "ipython",
        "version": 3
      },
      "file_extension": ".py",
      "mimetype": "text/x-python",
      "name": "python",
      "nbconvert_exporter": "python",
      "pygments_lexer": "ipython3",
      "version": "3.12.2"
    }
  },
  "nbformat": 4,
  "nbformat_minor": 0
}
